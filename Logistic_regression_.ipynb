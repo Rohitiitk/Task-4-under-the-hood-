{
  "nbformat": 4,
  "nbformat_minor": 0,
  "metadata": {
    "colab": {
      "name": "Logistic regression .ipynb",
      "provenance": [],
      "collapsed_sections": [],
      "authorship_tag": "ABX9TyMjXY3XVmz1QtOIEGCVIBaP",
      "include_colab_link": true
    },
    "kernelspec": {
      "name": "python3",
      "display_name": "Python 3"
    },
    "language_info": {
      "name": "python"
    }
  },
  "cells": [
    {
      "cell_type": "markdown",
      "metadata": {
        "id": "view-in-github",
        "colab_type": "text"
      },
      "source": [
        "<a href=\"https://colab.research.google.com/github/Rohitiitk/Task-4-under-the-hood-/blob/main/Logistic_regression_.ipynb\" target=\"_parent\"><img src=\"https://colab.research.google.com/assets/colab-badge.svg\" alt=\"Open In Colab\"/></a>"
      ]
    },
    {
      "cell_type": "code",
      "execution_count": 55,
      "metadata": {
        "id": "raetZBRlqE2o"
      },
      "outputs": [],
      "source": [
        "import numpy as np\n",
        "import matplotlib.pyplot as plt\n",
        "import pandas as pd\n",
        "data=pd.read_csv(\"/content/framingham.csv\")\n",
        "data=data.dropna()\n"
      ]
    },
    {
      "cell_type": "code",
      "source": [
        "for columns in (data.columns):\n",
        "  data[columns] /=data.max()[columns] "
      ],
      "metadata": {
        "id": "QqI6EDGUgBn6"
      },
      "execution_count": 56,
      "outputs": []
    },
    {
      "cell_type": "code",
      "source": [
        "data.describe()"
      ],
      "metadata": {
        "colab": {
          "base_uri": "https://localhost:8080/",
          "height": 364
        },
        "id": "OdWEtK-mgIoS",
        "outputId": "3e502d00-e913-49bb-8bb5-9339aaa1a0d8"
      },
      "execution_count": 57,
      "outputs": [
        {
          "output_type": "execute_result",
          "data": {
            "text/plain": [
              "              male          age    education  currentSmoker   cigsPerDay  \\\n",
              "count  3656.000000  3656.000000  3656.000000    3656.000000  3656.000000   \n",
              "mean      0.443654     0.707963     0.494940       0.489059     0.128888   \n",
              "std       0.496883     0.122302     0.255664       0.499949     0.170270   \n",
              "min       0.000000     0.457143     0.250000       0.000000     0.000000   \n",
              "25%       0.000000     0.600000     0.250000       0.000000     0.000000   \n",
              "50%       0.000000     0.700000     0.500000       0.000000     0.000000   \n",
              "75%       1.000000     0.800000     0.750000       1.000000     0.285714   \n",
              "max       1.000000     1.000000     1.000000       1.000000     1.000000   \n",
              "\n",
              "            BPMeds  prevalentStroke  prevalentHyp     diabetes      totChol  \\\n",
              "count  3656.000000      3656.000000   3656.000000  3656.000000  3656.000000   \n",
              "mean      0.030361         0.005744      0.311543     0.027079     0.394788   \n",
              "std       0.171602         0.075581      0.463187     0.162335     0.073494   \n",
              "min       0.000000         0.000000      0.000000     0.000000     0.188333   \n",
              "25%       0.000000         0.000000      0.000000     0.000000     0.343333   \n",
              "50%       0.000000         0.000000      0.000000     0.000000     0.390000   \n",
              "75%       0.000000         0.000000      1.000000     0.000000     0.438750   \n",
              "max       1.000000         1.000000      1.000000     1.000000     1.000000   \n",
              "\n",
              "             sysBP        diaBP          BMI    heartRate      glucose  \\\n",
              "count  3656.000000  3656.000000  3656.000000  3656.000000  3656.000000   \n",
              "mean      0.448705     0.581839     0.453947     0.529584     0.207757   \n",
              "std       0.074890     0.084034     0.071583     0.083797     0.060686   \n",
              "min       0.283051     0.336842     0.273592     0.307692     0.101523   \n",
              "25%       0.396610     0.526316     0.406338     0.475524     0.180203   \n",
              "50%       0.433898     0.575439     0.446831     0.524476     0.197970   \n",
              "75%       0.488136     0.631579     0.493662     0.573427     0.220812   \n",
              "max       1.000000     1.000000     1.000000     1.000000     1.000000   \n",
              "\n",
              "        TenYearCHD  \n",
              "count  3656.000000  \n",
              "mean      0.152352  \n",
              "std       0.359411  \n",
              "min       0.000000  \n",
              "25%       0.000000  \n",
              "50%       0.000000  \n",
              "75%       0.000000  \n",
              "max       1.000000  "
            ],
            "text/html": [
              "\n",
              "  <div id=\"df-3a732fbb-da1b-4b01-a559-826a975f3294\">\n",
              "    <div class=\"colab-df-container\">\n",
              "      <div>\n",
              "<style scoped>\n",
              "    .dataframe tbody tr th:only-of-type {\n",
              "        vertical-align: middle;\n",
              "    }\n",
              "\n",
              "    .dataframe tbody tr th {\n",
              "        vertical-align: top;\n",
              "    }\n",
              "\n",
              "    .dataframe thead th {\n",
              "        text-align: right;\n",
              "    }\n",
              "</style>\n",
              "<table border=\"1\" class=\"dataframe\">\n",
              "  <thead>\n",
              "    <tr style=\"text-align: right;\">\n",
              "      <th></th>\n",
              "      <th>male</th>\n",
              "      <th>age</th>\n",
              "      <th>education</th>\n",
              "      <th>currentSmoker</th>\n",
              "      <th>cigsPerDay</th>\n",
              "      <th>BPMeds</th>\n",
              "      <th>prevalentStroke</th>\n",
              "      <th>prevalentHyp</th>\n",
              "      <th>diabetes</th>\n",
              "      <th>totChol</th>\n",
              "      <th>sysBP</th>\n",
              "      <th>diaBP</th>\n",
              "      <th>BMI</th>\n",
              "      <th>heartRate</th>\n",
              "      <th>glucose</th>\n",
              "      <th>TenYearCHD</th>\n",
              "    </tr>\n",
              "  </thead>\n",
              "  <tbody>\n",
              "    <tr>\n",
              "      <th>count</th>\n",
              "      <td>3656.000000</td>\n",
              "      <td>3656.000000</td>\n",
              "      <td>3656.000000</td>\n",
              "      <td>3656.000000</td>\n",
              "      <td>3656.000000</td>\n",
              "      <td>3656.000000</td>\n",
              "      <td>3656.000000</td>\n",
              "      <td>3656.000000</td>\n",
              "      <td>3656.000000</td>\n",
              "      <td>3656.000000</td>\n",
              "      <td>3656.000000</td>\n",
              "      <td>3656.000000</td>\n",
              "      <td>3656.000000</td>\n",
              "      <td>3656.000000</td>\n",
              "      <td>3656.000000</td>\n",
              "      <td>3656.000000</td>\n",
              "    </tr>\n",
              "    <tr>\n",
              "      <th>mean</th>\n",
              "      <td>0.443654</td>\n",
              "      <td>0.707963</td>\n",
              "      <td>0.494940</td>\n",
              "      <td>0.489059</td>\n",
              "      <td>0.128888</td>\n",
              "      <td>0.030361</td>\n",
              "      <td>0.005744</td>\n",
              "      <td>0.311543</td>\n",
              "      <td>0.027079</td>\n",
              "      <td>0.394788</td>\n",
              "      <td>0.448705</td>\n",
              "      <td>0.581839</td>\n",
              "      <td>0.453947</td>\n",
              "      <td>0.529584</td>\n",
              "      <td>0.207757</td>\n",
              "      <td>0.152352</td>\n",
              "    </tr>\n",
              "    <tr>\n",
              "      <th>std</th>\n",
              "      <td>0.496883</td>\n",
              "      <td>0.122302</td>\n",
              "      <td>0.255664</td>\n",
              "      <td>0.499949</td>\n",
              "      <td>0.170270</td>\n",
              "      <td>0.171602</td>\n",
              "      <td>0.075581</td>\n",
              "      <td>0.463187</td>\n",
              "      <td>0.162335</td>\n",
              "      <td>0.073494</td>\n",
              "      <td>0.074890</td>\n",
              "      <td>0.084034</td>\n",
              "      <td>0.071583</td>\n",
              "      <td>0.083797</td>\n",
              "      <td>0.060686</td>\n",
              "      <td>0.359411</td>\n",
              "    </tr>\n",
              "    <tr>\n",
              "      <th>min</th>\n",
              "      <td>0.000000</td>\n",
              "      <td>0.457143</td>\n",
              "      <td>0.250000</td>\n",
              "      <td>0.000000</td>\n",
              "      <td>0.000000</td>\n",
              "      <td>0.000000</td>\n",
              "      <td>0.000000</td>\n",
              "      <td>0.000000</td>\n",
              "      <td>0.000000</td>\n",
              "      <td>0.188333</td>\n",
              "      <td>0.283051</td>\n",
              "      <td>0.336842</td>\n",
              "      <td>0.273592</td>\n",
              "      <td>0.307692</td>\n",
              "      <td>0.101523</td>\n",
              "      <td>0.000000</td>\n",
              "    </tr>\n",
              "    <tr>\n",
              "      <th>25%</th>\n",
              "      <td>0.000000</td>\n",
              "      <td>0.600000</td>\n",
              "      <td>0.250000</td>\n",
              "      <td>0.000000</td>\n",
              "      <td>0.000000</td>\n",
              "      <td>0.000000</td>\n",
              "      <td>0.000000</td>\n",
              "      <td>0.000000</td>\n",
              "      <td>0.000000</td>\n",
              "      <td>0.343333</td>\n",
              "      <td>0.396610</td>\n",
              "      <td>0.526316</td>\n",
              "      <td>0.406338</td>\n",
              "      <td>0.475524</td>\n",
              "      <td>0.180203</td>\n",
              "      <td>0.000000</td>\n",
              "    </tr>\n",
              "    <tr>\n",
              "      <th>50%</th>\n",
              "      <td>0.000000</td>\n",
              "      <td>0.700000</td>\n",
              "      <td>0.500000</td>\n",
              "      <td>0.000000</td>\n",
              "      <td>0.000000</td>\n",
              "      <td>0.000000</td>\n",
              "      <td>0.000000</td>\n",
              "      <td>0.000000</td>\n",
              "      <td>0.000000</td>\n",
              "      <td>0.390000</td>\n",
              "      <td>0.433898</td>\n",
              "      <td>0.575439</td>\n",
              "      <td>0.446831</td>\n",
              "      <td>0.524476</td>\n",
              "      <td>0.197970</td>\n",
              "      <td>0.000000</td>\n",
              "    </tr>\n",
              "    <tr>\n",
              "      <th>75%</th>\n",
              "      <td>1.000000</td>\n",
              "      <td>0.800000</td>\n",
              "      <td>0.750000</td>\n",
              "      <td>1.000000</td>\n",
              "      <td>0.285714</td>\n",
              "      <td>0.000000</td>\n",
              "      <td>0.000000</td>\n",
              "      <td>1.000000</td>\n",
              "      <td>0.000000</td>\n",
              "      <td>0.438750</td>\n",
              "      <td>0.488136</td>\n",
              "      <td>0.631579</td>\n",
              "      <td>0.493662</td>\n",
              "      <td>0.573427</td>\n",
              "      <td>0.220812</td>\n",
              "      <td>0.000000</td>\n",
              "    </tr>\n",
              "    <tr>\n",
              "      <th>max</th>\n",
              "      <td>1.000000</td>\n",
              "      <td>1.000000</td>\n",
              "      <td>1.000000</td>\n",
              "      <td>1.000000</td>\n",
              "      <td>1.000000</td>\n",
              "      <td>1.000000</td>\n",
              "      <td>1.000000</td>\n",
              "      <td>1.000000</td>\n",
              "      <td>1.000000</td>\n",
              "      <td>1.000000</td>\n",
              "      <td>1.000000</td>\n",
              "      <td>1.000000</td>\n",
              "      <td>1.000000</td>\n",
              "      <td>1.000000</td>\n",
              "      <td>1.000000</td>\n",
              "      <td>1.000000</td>\n",
              "    </tr>\n",
              "  </tbody>\n",
              "</table>\n",
              "</div>\n",
              "      <button class=\"colab-df-convert\" onclick=\"convertToInteractive('df-3a732fbb-da1b-4b01-a559-826a975f3294')\"\n",
              "              title=\"Convert this dataframe to an interactive table.\"\n",
              "              style=\"display:none;\">\n",
              "        \n",
              "  <svg xmlns=\"http://www.w3.org/2000/svg\" height=\"24px\"viewBox=\"0 0 24 24\"\n",
              "       width=\"24px\">\n",
              "    <path d=\"M0 0h24v24H0V0z\" fill=\"none\"/>\n",
              "    <path d=\"M18.56 5.44l.94 2.06.94-2.06 2.06-.94-2.06-.94-.94-2.06-.94 2.06-2.06.94zm-11 1L8.5 8.5l.94-2.06 2.06-.94-2.06-.94L8.5 2.5l-.94 2.06-2.06.94zm10 10l.94 2.06.94-2.06 2.06-.94-2.06-.94-.94-2.06-.94 2.06-2.06.94z\"/><path d=\"M17.41 7.96l-1.37-1.37c-.4-.4-.92-.59-1.43-.59-.52 0-1.04.2-1.43.59L10.3 9.45l-7.72 7.72c-.78.78-.78 2.05 0 2.83L4 21.41c.39.39.9.59 1.41.59.51 0 1.02-.2 1.41-.59l7.78-7.78 2.81-2.81c.8-.78.8-2.07 0-2.86zM5.41 20L4 18.59l7.72-7.72 1.47 1.35L5.41 20z\"/>\n",
              "  </svg>\n",
              "      </button>\n",
              "      \n",
              "  <style>\n",
              "    .colab-df-container {\n",
              "      display:flex;\n",
              "      flex-wrap:wrap;\n",
              "      gap: 12px;\n",
              "    }\n",
              "\n",
              "    .colab-df-convert {\n",
              "      background-color: #E8F0FE;\n",
              "      border: none;\n",
              "      border-radius: 50%;\n",
              "      cursor: pointer;\n",
              "      display: none;\n",
              "      fill: #1967D2;\n",
              "      height: 32px;\n",
              "      padding: 0 0 0 0;\n",
              "      width: 32px;\n",
              "    }\n",
              "\n",
              "    .colab-df-convert:hover {\n",
              "      background-color: #E2EBFA;\n",
              "      box-shadow: 0px 1px 2px rgba(60, 64, 67, 0.3), 0px 1px 3px 1px rgba(60, 64, 67, 0.15);\n",
              "      fill: #174EA6;\n",
              "    }\n",
              "\n",
              "    [theme=dark] .colab-df-convert {\n",
              "      background-color: #3B4455;\n",
              "      fill: #D2E3FC;\n",
              "    }\n",
              "\n",
              "    [theme=dark] .colab-df-convert:hover {\n",
              "      background-color: #434B5C;\n",
              "      box-shadow: 0px 1px 3px 1px rgba(0, 0, 0, 0.15);\n",
              "      filter: drop-shadow(0px 1px 2px rgba(0, 0, 0, 0.3));\n",
              "      fill: #FFFFFF;\n",
              "    }\n",
              "  </style>\n",
              "\n",
              "      <script>\n",
              "        const buttonEl =\n",
              "          document.querySelector('#df-3a732fbb-da1b-4b01-a559-826a975f3294 button.colab-df-convert');\n",
              "        buttonEl.style.display =\n",
              "          google.colab.kernel.accessAllowed ? 'block' : 'none';\n",
              "\n",
              "        async function convertToInteractive(key) {\n",
              "          const element = document.querySelector('#df-3a732fbb-da1b-4b01-a559-826a975f3294');\n",
              "          const dataTable =\n",
              "            await google.colab.kernel.invokeFunction('convertToInteractive',\n",
              "                                                     [key], {});\n",
              "          if (!dataTable) return;\n",
              "\n",
              "          const docLinkHtml = 'Like what you see? Visit the ' +\n",
              "            '<a target=\"_blank\" href=https://colab.research.google.com/notebooks/data_table.ipynb>data table notebook</a>'\n",
              "            + ' to learn more about interactive tables.';\n",
              "          element.innerHTML = '';\n",
              "          dataTable['output_type'] = 'display_data';\n",
              "          await google.colab.output.renderOutput(dataTable, element);\n",
              "          const docLink = document.createElement('div');\n",
              "          docLink.innerHTML = docLinkHtml;\n",
              "          element.appendChild(docLink);\n",
              "        }\n",
              "      </script>\n",
              "    </div>\n",
              "  </div>\n",
              "  "
            ]
          },
          "metadata": {},
          "execution_count": 57
        }
      ]
    },
    {
      "cell_type": "code",
      "source": [
        "msk = np.random.rand(len(data)) <=0.7\n",
        "\n",
        "train_set_x = (data[msk].iloc[:,1:15].values)\n",
        "train_set_y = (data[msk].iloc[:,-1].values)\n",
        "test_set_x = (data[~msk].iloc[:,1:15].values)\n",
        "test_set_y = (data[~msk].iloc[:,-1].values)"
      ],
      "metadata": {
        "id": "479Ltl2V24Kz"
      },
      "execution_count": 58,
      "outputs": []
    },
    {
      "cell_type": "code",
      "source": [
        "train_set_x = train_set_x.T\n",
        "train_set_y = train_set_y.reshape(1, train_set_x.shape[1])\n",
        "\n",
        "test_set_x = test_set_x.T\n",
        "test_set_y = test_set_y.reshape(1, test_set_x.shape[1])"
      ],
      "metadata": {
        "id": "naxOMN67z4oB"
      },
      "execution_count": 59,
      "outputs": []
    },
    {
      "cell_type": "code",
      "source": [
        "def sigmoid(x):\n",
        "   s=1/(1+np.exp(-x))\n",
        "   return s   \n"
      ],
      "metadata": {
        "id": "Pyi8cLOqtf31"
      },
      "execution_count": 60,
      "outputs": []
    },
    {
      "cell_type": "code",
      "source": [
        "train_set_x.shape"
      ],
      "metadata": {
        "colab": {
          "base_uri": "https://localhost:8080/"
        },
        "id": "dkD-sxB_Ygfg",
        "outputId": "6fd5b2cf-3a94-43ad-d714-3b6cd56f32cf"
      },
      "execution_count": 61,
      "outputs": [
        {
          "output_type": "execute_result",
          "data": {
            "text/plain": [
              "(14, 2551)"
            ]
          },
          "metadata": {},
          "execution_count": 61
        }
      ]
    },
    {
      "cell_type": "code",
      "source": [
        "train_set_x.shape[0]"
      ],
      "metadata": {
        "colab": {
          "base_uri": "https://localhost:8080/"
        },
        "id": "pf16fkrwxXK5",
        "outputId": "ea8c28c6-25ae-4357-b0d9-ebbecc0a8507"
      },
      "execution_count": 62,
      "outputs": [
        {
          "output_type": "execute_result",
          "data": {
            "text/plain": [
              "14"
            ]
          },
          "metadata": {},
          "execution_count": 62
        }
      ]
    },
    {
      "cell_type": "code",
      "source": [
        "def model(X, Y, learning_rate, iterations):\n",
        "    \n",
        "    m = X.shape[1]\n",
        "    n = X.shape[0]\n",
        "    W = np.zeros((n,1))\n",
        "    B = 0\n",
        "    \n",
        "    cost_list = []\n",
        "    \n",
        "    for i in range(iterations):\n",
        "        \n",
        "        Z = np.dot(W.T, X) + B\n",
        "        A = sigmoid(Z)\n",
        "        \n",
        "      \n",
        "        cost = -(1/m)*np.sum( Y*np.log(A) + (1-Y)*np.log(1-A))\n",
        "        \n",
        "        \n",
        "        dW = (1/m)*np.dot(A-Y, X.T)\n",
        "        dB = (1/m)*np.sum(A - Y)\n",
        "        \n",
        "        W = W - learning_rate*dW.T\n",
        "        B = B - learning_rate*dB\n",
        "        \n",
        "        cost_list.append(cost)\n",
        "        \n",
        "        if(i%(iterations/10) == 0):\n",
        "            print(\"cost after \", i, \"iteration is : \", cost)\n",
        "        \n",
        "    return W, B, cost_list\n",
        "        "
      ],
      "metadata": {
        "id": "tXux0K2WzHHk"
      },
      "execution_count": 63,
      "outputs": []
    },
    {
      "cell_type": "code",
      "source": [
        "iterations = 50000\n",
        "learning_rate = 0.02\n",
        "W, B, cost_list = model(train_set_x, train_set_y, learning_rate = learning_rate, iterations=iterations)"
      ],
      "metadata": {
        "colab": {
          "base_uri": "https://localhost:8080/"
        },
        "id": "pLSkMxiL1VsD",
        "outputId": "30271dd9-52b5-4a1f-f6bc-e479f0cf3ec2"
      },
      "execution_count": 64,
      "outputs": [
        {
          "output_type": "stream",
          "name": "stdout",
          "text": [
            "cost after  0 iteration is :  0.6931471805599453\n",
            "cost after  5000 iteration is :  0.40577983478089497\n",
            "cost after  10000 iteration is :  0.40081869278700505\n",
            "cost after  15000 iteration is :  0.3974694150755795\n",
            "cost after  20000 iteration is :  0.39487630600743967\n",
            "cost after  25000 iteration is :  0.39276832981106646\n",
            "cost after  30000 iteration is :  0.3910149854569254\n",
            "cost after  35000 iteration is :  0.3895366745725537\n",
            "cost after  40000 iteration is :  0.3882773193518994\n",
            "cost after  45000 iteration is :  0.3871947433009075\n"
          ]
        }
      ]
    },
    {
      "cell_type": "code",
      "source": [
        "plt.plot(np.arange(iterations), cost_list)\n",
        "plt.show()"
      ],
      "metadata": {
        "colab": {
          "base_uri": "https://localhost:8080/",
          "height": 265
        },
        "id": "il79cZj71Uqi",
        "outputId": "f308c3d5-bc1f-46db-cef5-54f70dd15424"
      },
      "execution_count": 65,
      "outputs": [
        {
          "output_type": "display_data",
          "data": {
            "text/plain": [
              "<Figure size 432x288 with 1 Axes>"
            ],
            "image/png": "[encoded data removed]"
          },
          "metadata": {
            "needs_background": "light"
          }
        }
      ]
    },
    {
      "cell_type": "code",
      "source": [
        "def accuracy(X, Y, W, B):\n",
        "    \n",
        "    Z = np.dot(W.T, X) + B\n",
        "    A = sigmoid(Z)\n",
        "    \n",
        "    A = A > 0.5\n",
        "    \n",
        "    A = np.array(A, dtype = 'int64')\n",
        "    \n",
        "    acc = (1 - np.sum(np.absolute(A - Y))/Y.shape[1])*100\n",
        "    \n",
        "    print(\"Accuracy of the model is : \", round(acc, 2), \"%\")"
      ],
      "metadata": {
        "id": "qelJVLnF2gYm"
      },
      "execution_count": 66,
      "outputs": []
    },
    {
      "cell_type": "code",
      "source": [
        "accuracy(test_set_x, test_set_y, W, B)"
      ],
      "metadata": {
        "colab": {
          "base_uri": "https://localhost:8080/"
        },
        "id": "-BCISchu2gf6",
        "outputId": "7d9b2688-ae50-4ac7-b87b-daeb0ed98ce2"
      },
      "execution_count": 67,
      "outputs": [
        {
          "output_type": "stream",
          "name": "stdout",
          "text": [
            "Accuracy of the model is :  84.52 %\n"
          ]
        }
      ]
    },
    {
      "cell_type": "code",
      "source": [
        ""
      ],
      "metadata": {
        "id": "aeoNAYPy2gkl"
      },
      "execution_count": 67,
      "outputs": []
    },
    {
      "cell_type": "code",
      "source": [
        ""
      ],
      "metadata": {
        "id": "oZkH4V9o2goL"
      },
      "execution_count": 67,
      "outputs": []
    }
  ]
}